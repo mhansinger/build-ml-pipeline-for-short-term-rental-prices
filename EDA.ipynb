{
 "cells": [
  {
   "cell_type": "code",
   "execution_count": null,
   "id": "ca68930f",
   "metadata": {},
   "outputs": [],
   "source": [
    "import wandb\n",
    "import pandas as pd\n",
    "\n",
    "run = wandb.init(project=\"nyc_airbnb\", group=\"eda\", save_code=True)\n",
    "local_path = wandb.use_artifact(\"sample.csv:latest\").file()\n",
    "df = pd.read_csv(local_path)"
   ]
  },
  {
   "cell_type": "code",
   "execution_count": null,
   "id": "6faf63ab-a08c-4d87-b796-69f2a83f2a28",
   "metadata": {},
   "outputs": [],
   "source": [
    "# first info of raw data set\n",
    "df_sample.info()"
   ]
  },
  {
   "cell_type": "code",
   "execution_count": null,
   "id": "9d9e8008",
   "metadata": {},
   "outputs": [],
   "source": [
    "# drop outliers\n",
    "min_price = 10\n",
    "max_price = 350\n",
    "idx = df_sample['price'].between(min_price, max_price)\n",
    "df_clean = df_sample[idx].copy()"
   ]
  },
  {
   "cell_type": "code",
   "execution_count": null,
   "id": "517a6621",
   "metadata": {},
   "outputs": [],
   "source": [
    "# convert 'last_review' to datetime\n",
    "df_clean['last_review'] = pd.to_datetime(df_clean['last_review'])\n",
    "\n",
    "# normal distribution of 'minimum_nights'\n",
    "df_clean['minimum_nights'] = np.log(df_clean['minimum_nights'])"
   ]
  },
  {
   "cell_type": "code",
   "execution_count": null,
   "id": "4a6c9637",
   "metadata": {},
   "outputs": [],
   "source": [
    "df_clean.head()"
   ]
  },
  {
   "cell_type": "code",
   "execution_count": null,
   "id": "6af52543",
   "metadata": {},
   "outputs": [],
   "source": [
    "df_clean.info()"
   ]
  },
  {
   "cell_type": "code",
   "execution_count": null,
   "id": "12013d84",
   "metadata": {},
   "outputs": [],
   "source": [
    "run.finish()"
   ]
  }
 ],
 "metadata": {
  "kernelspec": {
   "display_name": "Python 3 (ipykernel)",
   "language": "python",
   "name": "python3"
  },
  "language_info": {
   "codemirror_mode": {
    "name": "ipython",
    "version": 3
   },
   "file_extension": ".py",
   "mimetype": "text/x-python",
   "name": "python",
   "nbconvert_exporter": "python",
   "pygments_lexer": "ipython3",
   "version": "3.10.16"
  }
 },
 "nbformat": 4,
 "nbformat_minor": 5
}
